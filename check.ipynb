{
 "cells": [
  {
   "cell_type": "code",
   "execution_count": 1,
   "metadata": {},
   "outputs": [],
   "source": [
    "import pandas as pd\n"
   ]
  },
  {
   "cell_type": "code",
   "execution_count": 5,
   "metadata": {},
   "outputs": [
    {
     "name": "stdout",
     "output_type": "stream",
     "text": [
      "img 1 / 7\n",
      "Url is not an valid\n",
      "img 2 / 7\n",
      "img 3 / 7\n",
      "img 4 / 7\n",
      "img 5 / 7\n",
      "img 6 / 7\n",
      "img 1 / 7\n",
      "Url is not an valid\n",
      "img 2 / 7\n",
      "img 3 / 7\n",
      "img 4 / 7\n",
      "img 5 / 7\n",
      "img 6 / 7\n",
      "img 1 / 7\n",
      "Url is not an valid\n",
      "img 2 / 7\n",
      "img 3 / 7\n",
      "img 4 / 7\n",
      "img 5 / 7\n",
      "img 6 / 7\n"
     ]
    }
   ],
   "source": [
    "import requests \n",
    "from bs4 import BeautifulSoup \n",
    "def getdata(url):\n",
    "    r = requests.get(url)\n",
    "    return r.text\n",
    "list_find = [\"eggs\",\"chicken\",\"Cricket bat\"]\n",
    "\n",
    "save_img_num = 1\n",
    "for i in list_find:\n",
    "\n",
    "  htmldata = getdata(\"https://www.google.com/search?q=\" + \"+\".join(i.split(\" \"))  + \"&sxsrf=AJOqlzWVCvnbecCF9YkHXrs2rN4d3cJUeQ:1676872151027&source=lnms&tbm=isch&sa=X&ved=2ahUKEwiK2ZTHs6P9AhUT7jgGHfgtCngQ0pQJegQIBRAC&biw=1536&bih=714&dpr=1.25\")\n",
    "  soup = BeautifulSoup(htmldata, 'html.parser')\n",
    "\n",
    "  imgdata = []\n",
    "  for num,i in enumerate(soup.findAll('img',{\"src\":True})):\n",
    "    if num == 6:\n",
    "          break\n",
    "    imgdata.append(i['src']) # made a change here so its appendig to the list\n",
    "\n",
    "  \n",
    "  filename = \"E:/SRM_hackathon/images/images_set\" + str(save_img_num) +\"_\" +\"{}.jpg\" \n",
    "  for i in range(len(imgdata)):\n",
    "    print(f\"img {i+1} / {len(imgdata)+1}\")\n",
    "  # try block because not everything in the imgdata list is a valid url\n",
    "    try:\n",
    "      r = requests.get(imgdata[i], stream=True)\n",
    "      with open(filename.format(i), \"wb\") as f:\n",
    "        f.write(r.content)\n",
    "    except:\n",
    "      print(\"Url is not an valid\")\n",
    "\n",
    "  save_img_num += 1\n",
    "  \n",
    "  # for image in soup.findAll('img',{\"src\":True}):\n",
    "  #     v = image.get('src', image.get('dfr-src'))  # get's \"src\", else \"dfr_src\"\n",
    "  #                                                 # if both are missing - None\n",
    "  #     if v is None:\n",
    "  #         continue  # continue loop with the next image\n",
    "      # do your stuff"
   ]
  },
  {
   "cell_type": "code",
   "execution_count": 2,
   "metadata": {},
   "outputs": [],
   "source": [
    "read_data = pd.read_csv(r\"purchase.csv\")\n"
   ]
  },
  {
   "cell_type": "code",
   "execution_count": 22,
   "metadata": {},
   "outputs": [],
   "source": [
    "val = \"CUS_00001\"\n",
    "cus_buy_thing = []\n",
    "predict_df = read_data[ read_data[\"Customer ID\"] == val ]\n",
    "cus_buy_thing = []\n",
    "for i in predict_df.to_numpy():\n",
    "    for j in i:\n",
    "        j = str(j)\n",
    "        if j != \"nan\" and j[0:4] != \"CUS_\":\n",
    "            cus_buy_thing.append(j)"
   ]
  },
  {
   "cell_type": "code",
   "execution_count": null,
   "metadata": {},
   "outputs": [],
   "source": []
  },
  {
   "cell_type": "code",
   "execution_count": 23,
   "metadata": {},
   "outputs": [
    {
     "data": {
      "text/plain": [
       "['eggs', 'turkey', 'parmesan cheese']"
      ]
     },
     "execution_count": 23,
     "metadata": {},
     "output_type": "execute_result"
    }
   ],
   "source": [
    "cus_buy_thing"
   ]
  },
  {
   "cell_type": "code",
   "execution_count": null,
   "metadata": {},
   "outputs": [],
   "source": []
  }
 ],
 "metadata": {
  "kernelspec": {
   "display_name": "Python 3",
   "language": "python",
   "name": "python3"
  },
  "language_info": {
   "codemirror_mode": {
    "name": "ipython",
    "version": 3
   },
   "file_extension": ".py",
   "mimetype": "text/x-python",
   "name": "python",
   "nbconvert_exporter": "python",
   "pygments_lexer": "ipython3",
   "version": "3.10.5"
  },
  "orig_nbformat": 4,
  "vscode": {
   "interpreter": {
    "hash": "df95319d8ce4e1d89f5365ae10992bc1f65da593082b1d264e8f529830ec2f02"
   }
  }
 },
 "nbformat": 4,
 "nbformat_minor": 2
}
